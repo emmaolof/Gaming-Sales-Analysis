{
 "cells": [
  {
   "cell_type": "markdown",
   "metadata": {},
   "source": [
    "### Note\n",
    "* Instructions have been included for each segment. You do not have to follow them exactly, but they are included to help you think through the steps."
   ]
  },
  {
   "cell_type": "code",
   "execution_count": 23,
   "metadata": {},
   "outputs": [],
   "source": [
    "# Dependencies and Setup\n",
    "import pandas as pd\n",
    "\n",
    "# File to Load (Remember to Change These)\n",
    "file_to_load = \"Resources/purchase_data.csv\"\n",
    "\n",
    "# Read Purchasing File and store into Pandas data frame\n",
    "purchase_data = pd.read_csv(file_to_load)"
   ]
  },
  {
   "cell_type": "markdown",
   "metadata": {},
   "source": [
    "## Player Count"
   ]
  },
  {
   "cell_type": "markdown",
   "metadata": {},
   "source": [
    "* Display the total number of players\n"
   ]
  },
  {
   "cell_type": "code",
   "execution_count": 24,
   "metadata": {},
   "outputs": [
    {
     "data": {
      "text/html": [
       "<div>\n",
       "<style scoped>\n",
       "    .dataframe tbody tr th:only-of-type {\n",
       "        vertical-align: middle;\n",
       "    }\n",
       "\n",
       "    .dataframe tbody tr th {\n",
       "        vertical-align: top;\n",
       "    }\n",
       "\n",
       "    .dataframe thead th {\n",
       "        text-align: right;\n",
       "    }\n",
       "</style>\n",
       "<table border=\"1\" class=\"dataframe\">\n",
       "  <thead>\n",
       "    <tr style=\"text-align: right;\">\n",
       "      <th></th>\n",
       "      <th>Purchase ID</th>\n",
       "      <th>SN</th>\n",
       "      <th>Age</th>\n",
       "      <th>Gender</th>\n",
       "      <th>Item ID</th>\n",
       "      <th>Item Name</th>\n",
       "      <th>Price</th>\n",
       "    </tr>\n",
       "  </thead>\n",
       "  <tbody>\n",
       "    <tr>\n",
       "      <td>0</td>\n",
       "      <td>0</td>\n",
       "      <td>Lisim78</td>\n",
       "      <td>20</td>\n",
       "      <td>Male</td>\n",
       "      <td>108</td>\n",
       "      <td>Extraction, Quickblade Of Trembling Hands</td>\n",
       "      <td>3.53</td>\n",
       "    </tr>\n",
       "    <tr>\n",
       "      <td>1</td>\n",
       "      <td>1</td>\n",
       "      <td>Lisovynya38</td>\n",
       "      <td>40</td>\n",
       "      <td>Male</td>\n",
       "      <td>143</td>\n",
       "      <td>Frenzied Scimitar</td>\n",
       "      <td>1.56</td>\n",
       "    </tr>\n",
       "    <tr>\n",
       "      <td>2</td>\n",
       "      <td>2</td>\n",
       "      <td>Ithergue48</td>\n",
       "      <td>24</td>\n",
       "      <td>Male</td>\n",
       "      <td>92</td>\n",
       "      <td>Final Critic</td>\n",
       "      <td>4.88</td>\n",
       "    </tr>\n",
       "    <tr>\n",
       "      <td>3</td>\n",
       "      <td>3</td>\n",
       "      <td>Chamassasya86</td>\n",
       "      <td>24</td>\n",
       "      <td>Male</td>\n",
       "      <td>100</td>\n",
       "      <td>Blindscythe</td>\n",
       "      <td>3.27</td>\n",
       "    </tr>\n",
       "    <tr>\n",
       "      <td>4</td>\n",
       "      <td>4</td>\n",
       "      <td>Iskosia90</td>\n",
       "      <td>23</td>\n",
       "      <td>Male</td>\n",
       "      <td>131</td>\n",
       "      <td>Fury</td>\n",
       "      <td>1.44</td>\n",
       "    </tr>\n",
       "  </tbody>\n",
       "</table>\n",
       "</div>"
      ],
      "text/plain": [
       "   Purchase ID             SN  Age Gender  Item ID  \\\n",
       "0            0        Lisim78   20   Male      108   \n",
       "1            1    Lisovynya38   40   Male      143   \n",
       "2            2     Ithergue48   24   Male       92   \n",
       "3            3  Chamassasya86   24   Male      100   \n",
       "4            4      Iskosia90   23   Male      131   \n",
       "\n",
       "                                   Item Name  Price  \n",
       "0  Extraction, Quickblade Of Trembling Hands   3.53  \n",
       "1                          Frenzied Scimitar   1.56  \n",
       "2                               Final Critic   4.88  \n",
       "3                                Blindscythe   3.27  \n",
       "4                                       Fury   1.44  "
      ]
     },
     "execution_count": 24,
     "metadata": {},
     "output_type": "execute_result"
    }
   ],
   "source": [
    "purchase_data.head()"
   ]
  },
  {
   "cell_type": "code",
   "execution_count": 25,
   "metadata": {},
   "outputs": [
    {
     "data": {
      "text/html": [
       "<div>\n",
       "<style scoped>\n",
       "    .dataframe tbody tr th:only-of-type {\n",
       "        vertical-align: middle;\n",
       "    }\n",
       "\n",
       "    .dataframe tbody tr th {\n",
       "        vertical-align: top;\n",
       "    }\n",
       "\n",
       "    .dataframe thead th {\n",
       "        text-align: right;\n",
       "    }\n",
       "</style>\n",
       "<table border=\"1\" class=\"dataframe\">\n",
       "  <thead>\n",
       "    <tr style=\"text-align: right;\">\n",
       "      <th></th>\n",
       "      <th>Total Players</th>\n",
       "    </tr>\n",
       "  </thead>\n",
       "  <tbody>\n",
       "    <tr>\n",
       "      <td>0</td>\n",
       "      <td>576</td>\n",
       "    </tr>\n",
       "  </tbody>\n",
       "</table>\n",
       "</div>"
      ],
      "text/plain": [
       "   Total Players\n",
       "0            576"
      ]
     },
     "execution_count": 25,
     "metadata": {},
     "output_type": "execute_result"
    }
   ],
   "source": [
    "num=len(purchase_data['SN'].unique())\n",
    "total_players=pd.DataFrame({'Total Players':num},index=[0])\n",
    "total_players"
   ]
  },
  {
   "cell_type": "markdown",
   "metadata": {},
   "source": [
    "## Purchasing Analysis (Total)"
   ]
  },
  {
   "cell_type": "markdown",
   "metadata": {},
   "source": [
    "* Run basic calculations to obtain number of unique items, average price, etc.\n",
    "\n",
    "\n",
    "* Create a summary data frame to hold the results\n",
    "\n",
    "\n",
    "* Optional: give the displayed data cleaner formatting\n",
    "\n",
    "\n",
    "* Display the summary data frame\n"
   ]
  },
  {
   "cell_type": "code",
   "execution_count": 26,
   "metadata": {
    "scrolled": true
   },
   "outputs": [
    {
     "data": {
      "text/html": [
       "<style  type=\"text/css\" >\n",
       "</style><table id=\"T_2ddec902_2f68_11ea_8313_f81654910301\" ><thead>    <tr>        <th class=\"blank level0\" ></th>        <th class=\"col_heading level0 col0\" >Number of Unique Items</th>        <th class=\"col_heading level0 col1\" >Average Price</th>        <th class=\"col_heading level0 col2\" >Number of Purchases</th>        <th class=\"col_heading level0 col3\" >Total Revenue</th>    </tr></thead><tbody>\n",
       "                <tr>\n",
       "                        <th id=\"T_2ddec902_2f68_11ea_8313_f81654910301level0_row0\" class=\"row_heading level0 row0\" >0</th>\n",
       "                        <td id=\"T_2ddec902_2f68_11ea_8313_f81654910301row0_col0\" class=\"data row0 col0\" >183</td>\n",
       "                        <td id=\"T_2ddec902_2f68_11ea_8313_f81654910301row0_col1\" class=\"data row0 col1\" >$3.05</td>\n",
       "                        <td id=\"T_2ddec902_2f68_11ea_8313_f81654910301row0_col2\" class=\"data row0 col2\" >780</td>\n",
       "                        <td id=\"T_2ddec902_2f68_11ea_8313_f81654910301row0_col3\" class=\"data row0 col3\" >$2,379.77</td>\n",
       "            </tr>\n",
       "    </tbody></table>"
      ],
      "text/plain": [
       "<pandas.io.formats.style.Styler at 0x2555eafd588>"
      ]
     },
     "execution_count": 26,
     "metadata": {},
     "output_type": "execute_result"
    }
   ],
   "source": [
    "item=len(purchase_data['Item ID'].unique())\n",
    "avg_price=purchase_data['Price'].mean()\n",
    "num_purchase=purchase_data['Purchase ID'].count()\n",
    "total_rev=purchase_data['Price'].sum()\n",
    "sum1=pd.DataFrame({'Number of Unique Items':item, 'Average Price':avg_price,'Number of Purchases':num_purchase, 'Total Revenue':total_rev},index=[0])\n",
    "sum1\n",
    "\n",
    "sum1.style.format({'Average Price':\"${:,.2f}\",\n",
    "                         'Total Revenue': '${:,.2f}'})"
   ]
  },
  {
   "cell_type": "markdown",
   "metadata": {},
   "source": [
    "## Gender Demographics"
   ]
  },
  {
   "cell_type": "markdown",
   "metadata": {},
   "source": [
    "* Percentage and Count of Male Players\n",
    "\n",
    "\n",
    "* Percentage and Count of Female Players\n",
    "\n",
    "\n",
    "* Percentage and Count of Other / Non-Disclosed\n",
    "\n",
    "\n"
   ]
  },
  {
   "cell_type": "code",
   "execution_count": 27,
   "metadata": {},
   "outputs": [],
   "source": [
    "male=purchase_data[purchase_data['Gender']=='Male']\n",
    "num1=len(male['SN'].unique())\n",
    "fe=purchase_data[purchase_data['Gender']=='Female']\n",
    "num2=len(female['SN'].unique())\n",
    "non=purchase_data[purchase_data['Gender']=='Other / Non-Disclosed']\n",
    "num3=len(non['SN'].unique())"
   ]
  },
  {
   "cell_type": "code",
   "execution_count": 28,
   "metadata": {},
   "outputs": [
    {
     "data": {
      "text/html": [
       "<div>\n",
       "<style scoped>\n",
       "    .dataframe tbody tr th:only-of-type {\n",
       "        vertical-align: middle;\n",
       "    }\n",
       "\n",
       "    .dataframe tbody tr th {\n",
       "        vertical-align: top;\n",
       "    }\n",
       "\n",
       "    .dataframe thead th {\n",
       "        text-align: right;\n",
       "    }\n",
       "</style>\n",
       "<table border=\"1\" class=\"dataframe\">\n",
       "  <thead>\n",
       "    <tr style=\"text-align: right;\">\n",
       "      <th></th>\n",
       "      <th>Total Count</th>\n",
       "      <th>Percentage of Players</th>\n",
       "    </tr>\n",
       "  </thead>\n",
       "  <tbody>\n",
       "    <tr>\n",
       "      <td>Male</td>\n",
       "      <td>484</td>\n",
       "      <td>84.03%</td>\n",
       "    </tr>\n",
       "    <tr>\n",
       "      <td>Female</td>\n",
       "      <td>81</td>\n",
       "      <td>14.06%</td>\n",
       "    </tr>\n",
       "    <tr>\n",
       "      <td>Other</td>\n",
       "      <td>11</td>\n",
       "      <td>1.91%</td>\n",
       "    </tr>\n",
       "  </tbody>\n",
       "</table>\n",
       "</div>"
      ],
      "text/plain": [
       "        Total Count Percentage of Players\n",
       "Male            484                84.03%\n",
       "Female           81                14.06%\n",
       "Other            11                 1.91%"
      ]
     },
     "execution_count": 28,
     "metadata": {},
     "output_type": "execute_result"
    }
   ],
   "source": [
    "male=purchase_data[purchase_data['Gender']=='Male']\n",
    "female=purchase_data[purchase_data['Gender']=='Female']\n",
    "other=purchase_data[purchase_data['Gender']=='Other / Non-Disclosed']\n",
    "tol=len(purchase_data['SN'].unique())\n",
    "male_per=num1/tol*100\n",
    "female_per=num2/tol*100\n",
    "o_per=num3/tol*100\n",
    "gender_sum=pd.DataFrame({'Total Count':[num1,num2,num3],\n",
    "                         'Percentage of Players':[male_per,female_per,o_per]},index=['Male','Female','Other'])\n",
    "gender_sum['Percentage of Players']=gender_sum['Percentage of Players'].map('{:.2f}%'.format)\n",
    "gender_sum"
   ]
  },
  {
   "cell_type": "markdown",
   "metadata": {},
   "source": [
    "\n",
    "## Purchasing Analysis (Gender)"
   ]
  },
  {
   "cell_type": "markdown",
   "metadata": {},
   "source": [
    "* Run basic calculations to obtain purchase count, avg. purchase price, avg. purchase total per person etc. by gender\n",
    "\n",
    "\n",
    "\n",
    "\n",
    "* Create a summary data frame to hold the results\n",
    "\n",
    "\n",
    "* Optional: give the displayed data cleaner formatting\n",
    "\n",
    "\n",
    "* Display the summary data frame"
   ]
  },
  {
   "cell_type": "code",
   "execution_count": 29,
   "metadata": {},
   "outputs": [
    {
     "data": {
      "text/html": [
       "<div>\n",
       "<style scoped>\n",
       "    .dataframe tbody tr th:only-of-type {\n",
       "        vertical-align: middle;\n",
       "    }\n",
       "\n",
       "    .dataframe tbody tr th {\n",
       "        vertical-align: top;\n",
       "    }\n",
       "\n",
       "    .dataframe thead th {\n",
       "        text-align: right;\n",
       "    }\n",
       "</style>\n",
       "<table border=\"1\" class=\"dataframe\">\n",
       "  <thead>\n",
       "    <tr style=\"text-align: right;\">\n",
       "      <th></th>\n",
       "      <th>Purchase Count</th>\n",
       "      <th>Average Purchase Price</th>\n",
       "      <th>Total Purchase Value</th>\n",
       "      <th>Avg Total Purchase per Person</th>\n",
       "    </tr>\n",
       "  </thead>\n",
       "  <tbody>\n",
       "    <tr>\n",
       "      <td>Male</td>\n",
       "      <td>484</td>\n",
       "      <td>3.203009</td>\n",
       "      <td>361.94</td>\n",
       "      <td>4.065372</td>\n",
       "    </tr>\n",
       "    <tr>\n",
       "      <td>Female</td>\n",
       "      <td>81</td>\n",
       "      <td>3.017853</td>\n",
       "      <td>1967.64</td>\n",
       "      <td>4.468395</td>\n",
       "    </tr>\n",
       "    <tr>\n",
       "      <td>Other</td>\n",
       "      <td>11</td>\n",
       "      <td>3.346000</td>\n",
       "      <td>50.19</td>\n",
       "      <td>4.562727</td>\n",
       "    </tr>\n",
       "  </tbody>\n",
       "</table>\n",
       "</div>"
      ],
      "text/plain": [
       "        Purchase Count  Average Purchase Price  Total Purchase Value  \\\n",
       "Male               484                3.203009                361.94   \n",
       "Female              81                3.017853               1967.64   \n",
       "Other               11                3.346000                 50.19   \n",
       "\n",
       "        Avg Total Purchase per Person  \n",
       "Male                         4.065372  \n",
       "Female                       4.468395  \n",
       "Other                        4.562727  "
      ]
     },
     "execution_count": 29,
     "metadata": {},
     "output_type": "execute_result"
    }
   ],
   "source": [
    "m=purchase_data.groupby(['Gender'])\n",
    "avg_purchase=m['Price'].mean()\n",
    "tot_purchase=m['Price'].sum()\n",
    "male_each=tot_purchase['Male']/num1\n",
    "female_each=tot_purchase['Female']/num2\n",
    "other_each=tot_purchase['Other / Non-Disclosed']/num3\n",
    "analysis=pd.DataFrame({'Purchase Count':[num1,num2,num3],\n",
    "                       'Average Purchase Price':[avg_purchase[0],avg_purchase[1],avg_purchase[2]],\n",
    "                       'Total Purchase Value':[tot_purchase[0],tot_purchase[1],tot_purchase[2]],\n",
    "                       'Avg Total Purchase per Person':[male_each,female_each,other_each]},index=['Male','Female','Other'])\n",
    "analysis\n",
    "\n"
   ]
  },
  {
   "cell_type": "markdown",
   "metadata": {},
   "source": [
    "## Age Demographics"
   ]
  },
  {
   "cell_type": "markdown",
   "metadata": {},
   "source": [
    "* Establish bins for ages\n",
    "\n",
    "\n",
    "* Categorize the existing players using the age bins. Hint: use pd.cut()\n",
    "\n",
    "\n",
    "* Calculate the numbers and percentages by age group\n",
    "\n",
    "\n",
    "* Create a summary data frame to hold the results\n",
    "\n",
    "\n",
    "* Optional: round the percentage column to two decimal points\n",
    "\n",
    "\n",
    "* Display Age Demographics Table\n"
   ]
  },
  {
   "cell_type": "code",
   "execution_count": 30,
   "metadata": {},
   "outputs": [],
   "source": [
    "bins=[0,9,14,19,24,29,34,39,50]\n",
    "ages=['<10','10-14','15-19','20-24','25-29','30-34','35-39','40+']\n",
    "purchase_data['Age Group']=pd.cut(purchase_data['Age'], bins, labels=ages)\n"
   ]
  },
  {
   "cell_type": "code",
   "execution_count": 31,
   "metadata": {},
   "outputs": [
    {
     "data": {
      "text/html": [
       "<div>\n",
       "<style scoped>\n",
       "    .dataframe tbody tr th:only-of-type {\n",
       "        vertical-align: middle;\n",
       "    }\n",
       "\n",
       "    .dataframe tbody tr th {\n",
       "        vertical-align: top;\n",
       "    }\n",
       "\n",
       "    .dataframe thead th {\n",
       "        text-align: right;\n",
       "    }\n",
       "</style>\n",
       "<table border=\"1\" class=\"dataframe\">\n",
       "  <thead>\n",
       "    <tr style=\"text-align: right;\">\n",
       "      <th></th>\n",
       "      <th>Purchase ID</th>\n",
       "      <th>SN</th>\n",
       "      <th>Age</th>\n",
       "      <th>Gender</th>\n",
       "      <th>Item ID</th>\n",
       "      <th>Item Name</th>\n",
       "      <th>Price</th>\n",
       "      <th>Age Group</th>\n",
       "    </tr>\n",
       "  </thead>\n",
       "  <tbody>\n",
       "    <tr>\n",
       "      <td>0</td>\n",
       "      <td>0</td>\n",
       "      <td>Lisim78</td>\n",
       "      <td>20</td>\n",
       "      <td>Male</td>\n",
       "      <td>108</td>\n",
       "      <td>Extraction, Quickblade Of Trembling Hands</td>\n",
       "      <td>3.53</td>\n",
       "      <td>20-24</td>\n",
       "    </tr>\n",
       "    <tr>\n",
       "      <td>1</td>\n",
       "      <td>1</td>\n",
       "      <td>Lisovynya38</td>\n",
       "      <td>40</td>\n",
       "      <td>Male</td>\n",
       "      <td>143</td>\n",
       "      <td>Frenzied Scimitar</td>\n",
       "      <td>1.56</td>\n",
       "      <td>40+</td>\n",
       "    </tr>\n",
       "    <tr>\n",
       "      <td>2</td>\n",
       "      <td>2</td>\n",
       "      <td>Ithergue48</td>\n",
       "      <td>24</td>\n",
       "      <td>Male</td>\n",
       "      <td>92</td>\n",
       "      <td>Final Critic</td>\n",
       "      <td>4.88</td>\n",
       "      <td>20-24</td>\n",
       "    </tr>\n",
       "    <tr>\n",
       "      <td>3</td>\n",
       "      <td>3</td>\n",
       "      <td>Chamassasya86</td>\n",
       "      <td>24</td>\n",
       "      <td>Male</td>\n",
       "      <td>100</td>\n",
       "      <td>Blindscythe</td>\n",
       "      <td>3.27</td>\n",
       "      <td>20-24</td>\n",
       "    </tr>\n",
       "    <tr>\n",
       "      <td>4</td>\n",
       "      <td>4</td>\n",
       "      <td>Iskosia90</td>\n",
       "      <td>23</td>\n",
       "      <td>Male</td>\n",
       "      <td>131</td>\n",
       "      <td>Fury</td>\n",
       "      <td>1.44</td>\n",
       "      <td>20-24</td>\n",
       "    </tr>\n",
       "  </tbody>\n",
       "</table>\n",
       "</div>"
      ],
      "text/plain": [
       "   Purchase ID             SN  Age Gender  Item ID  \\\n",
       "0            0        Lisim78   20   Male      108   \n",
       "1            1    Lisovynya38   40   Male      143   \n",
       "2            2     Ithergue48   24   Male       92   \n",
       "3            3  Chamassasya86   24   Male      100   \n",
       "4            4      Iskosia90   23   Male      131   \n",
       "\n",
       "                                   Item Name  Price Age Group  \n",
       "0  Extraction, Quickblade Of Trembling Hands   3.53     20-24  \n",
       "1                          Frenzied Scimitar   1.56       40+  \n",
       "2                               Final Critic   4.88     20-24  \n",
       "3                                Blindscythe   3.27     20-24  \n",
       "4                                       Fury   1.44     20-24  "
      ]
     },
     "execution_count": 31,
     "metadata": {},
     "output_type": "execute_result"
    }
   ],
   "source": [
    "purchase_data.head()"
   ]
  },
  {
   "cell_type": "code",
   "execution_count": 32,
   "metadata": {},
   "outputs": [
    {
     "data": {
      "text/plain": [
       "Age Group\n",
       "<10       17\n",
       "10-14     22\n",
       "15-19    107\n",
       "20-24    258\n",
       "25-29     77\n",
       "30-34     52\n",
       "35-39     31\n",
       "40+       12\n",
       "Name: SN, dtype: int64"
      ]
     },
     "execution_count": 32,
     "metadata": {},
     "output_type": "execute_result"
    }
   ],
   "source": [
    "agedemo=purchase_data.drop_duplicates(['SN'])\n",
    "age_group=agedemo.groupby(['Age Group'])\n",
    "age_group['SN'].count()"
   ]
  },
  {
   "cell_type": "code",
   "execution_count": 33,
   "metadata": {},
   "outputs": [],
   "source": [
    "percentage=age_group['SN'].count() /len(purchase_data['SN'].value_counts())*100"
   ]
  },
  {
   "cell_type": "code",
   "execution_count": 34,
   "metadata": {},
   "outputs": [
    {
     "data": {
      "text/html": [
       "<div>\n",
       "<style scoped>\n",
       "    .dataframe tbody tr th:only-of-type {\n",
       "        vertical-align: middle;\n",
       "    }\n",
       "\n",
       "    .dataframe tbody tr th {\n",
       "        vertical-align: top;\n",
       "    }\n",
       "\n",
       "    .dataframe thead th {\n",
       "        text-align: right;\n",
       "    }\n",
       "</style>\n",
       "<table border=\"1\" class=\"dataframe\">\n",
       "  <thead>\n",
       "    <tr style=\"text-align: right;\">\n",
       "      <th></th>\n",
       "      <th>Total Count</th>\n",
       "      <th>Percentage of Players</th>\n",
       "    </tr>\n",
       "    <tr>\n",
       "      <th>Age Group</th>\n",
       "      <th></th>\n",
       "      <th></th>\n",
       "    </tr>\n",
       "  </thead>\n",
       "  <tbody>\n",
       "    <tr>\n",
       "      <td>&lt;10</td>\n",
       "      <td>17</td>\n",
       "      <td>2.95%</td>\n",
       "    </tr>\n",
       "    <tr>\n",
       "      <td>10-14</td>\n",
       "      <td>22</td>\n",
       "      <td>3.82%</td>\n",
       "    </tr>\n",
       "    <tr>\n",
       "      <td>15-19</td>\n",
       "      <td>107</td>\n",
       "      <td>18.58%</td>\n",
       "    </tr>\n",
       "    <tr>\n",
       "      <td>20-24</td>\n",
       "      <td>258</td>\n",
       "      <td>44.79%</td>\n",
       "    </tr>\n",
       "    <tr>\n",
       "      <td>25-29</td>\n",
       "      <td>77</td>\n",
       "      <td>13.37%</td>\n",
       "    </tr>\n",
       "    <tr>\n",
       "      <td>30-34</td>\n",
       "      <td>52</td>\n",
       "      <td>9.03%</td>\n",
       "    </tr>\n",
       "    <tr>\n",
       "      <td>35-39</td>\n",
       "      <td>31</td>\n",
       "      <td>5.38%</td>\n",
       "    </tr>\n",
       "    <tr>\n",
       "      <td>40+</td>\n",
       "      <td>12</td>\n",
       "      <td>2.08%</td>\n",
       "    </tr>\n",
       "  </tbody>\n",
       "</table>\n",
       "</div>"
      ],
      "text/plain": [
       "           Total Count Percentage of Players\n",
       "Age Group                                   \n",
       "<10                 17                 2.95%\n",
       "10-14               22                 3.82%\n",
       "15-19              107                18.58%\n",
       "20-24              258                44.79%\n",
       "25-29               77                13.37%\n",
       "30-34               52                 9.03%\n",
       "35-39               31                 5.38%\n",
       "40+                 12                 2.08%"
      ]
     },
     "execution_count": 34,
     "metadata": {},
     "output_type": "execute_result"
    }
   ],
   "source": [
    "agedemos=pd.DataFrame({'Total Count':age_group['SN'].count() ,\n",
    "                      'Percentage of Players':percentage})\n",
    "agedemos['Percentage of Players']=agedemos['Percentage of Players'].map('{:.2f}%'.format)\n",
    "agedemos"
   ]
  },
  {
   "cell_type": "markdown",
   "metadata": {},
   "source": [
    "## Purchasing Analysis (Age)"
   ]
  },
  {
   "cell_type": "markdown",
   "metadata": {},
   "source": [
    "* Bin the purchase_data data frame by age\n",
    "\n",
    "\n",
    "* Run basic calculations to obtain purchase count, avg. purchase price, avg. purchase total per person etc. in the table below\n",
    "\n",
    "\n",
    "* Create a summary data frame to hold the results\n",
    "\n",
    "\n",
    "* Optional: give the displayed data cleaner formatting\n",
    "\n",
    "\n",
    "* Display the summary data frame"
   ]
  },
  {
   "cell_type": "code",
   "execution_count": 35,
   "metadata": {},
   "outputs": [
    {
     "data": {
      "text/plain": [
       "Age Group\n",
       "<10       23\n",
       "10-14     28\n",
       "15-19    136\n",
       "20-24    365\n",
       "25-29    101\n",
       "30-34     73\n",
       "35-39     41\n",
       "40+       13\n",
       "Name: Purchase ID, dtype: int64"
      ]
     },
     "execution_count": 35,
     "metadata": {},
     "output_type": "execute_result"
    }
   ],
   "source": [
    "age_purchase=purchase_data.groupby('Age Group')\n",
    "age_purchase['Purchase ID'].count()"
   ]
  },
  {
   "cell_type": "code",
   "execution_count": 36,
   "metadata": {},
   "outputs": [],
   "source": [
    "avg_byage=round(age_purchase['Price'].mean(),2)\n",
    "tot_byage=age_purchase['Price'].sum()\n",
    "avgperperson=round(tot_byage/(age_group['SN'].count()),2)"
   ]
  },
  {
   "cell_type": "code",
   "execution_count": 42,
   "metadata": {},
   "outputs": [
    {
     "data": {
      "text/html": [
       "<style  type=\"text/css\" >\n",
       "</style><table id=\"T_dfd0cd34_2f68_11ea_b0b0_f81654910301\" ><thead>    <tr>        <th class=\"blank level0\" ></th>        <th class=\"col_heading level0 col0\" >Purchase Count</th>        <th class=\"col_heading level0 col1\" >Average Purchase Price</th>        <th class=\"col_heading level0 col2\" >Total Purchase Value</th>        <th class=\"col_heading level0 col3\" >Avg Total Purchase per Person</th>    </tr>    <tr>        <th class=\"index_name level0\" >Age Group</th>        <th class=\"blank\" ></th>        <th class=\"blank\" ></th>        <th class=\"blank\" ></th>        <th class=\"blank\" ></th>    </tr></thead><tbody>\n",
       "                <tr>\n",
       "                        <th id=\"T_dfd0cd34_2f68_11ea_b0b0_f81654910301level0_row0\" class=\"row_heading level0 row0\" ><10</th>\n",
       "                        <td id=\"T_dfd0cd34_2f68_11ea_b0b0_f81654910301row0_col0\" class=\"data row0 col0\" >23</td>\n",
       "                        <td id=\"T_dfd0cd34_2f68_11ea_b0b0_f81654910301row0_col1\" class=\"data row0 col1\" >$3.35</td>\n",
       "                        <td id=\"T_dfd0cd34_2f68_11ea_b0b0_f81654910301row0_col2\" class=\"data row0 col2\" >$77.13</td>\n",
       "                        <td id=\"T_dfd0cd34_2f68_11ea_b0b0_f81654910301row0_col3\" class=\"data row0 col3\" >$4.54</td>\n",
       "            </tr>\n",
       "            <tr>\n",
       "                        <th id=\"T_dfd0cd34_2f68_11ea_b0b0_f81654910301level0_row1\" class=\"row_heading level0 row1\" >10-14</th>\n",
       "                        <td id=\"T_dfd0cd34_2f68_11ea_b0b0_f81654910301row1_col0\" class=\"data row1 col0\" >28</td>\n",
       "                        <td id=\"T_dfd0cd34_2f68_11ea_b0b0_f81654910301row1_col1\" class=\"data row1 col1\" >$2.96</td>\n",
       "                        <td id=\"T_dfd0cd34_2f68_11ea_b0b0_f81654910301row1_col2\" class=\"data row1 col2\" >$82.78</td>\n",
       "                        <td id=\"T_dfd0cd34_2f68_11ea_b0b0_f81654910301row1_col3\" class=\"data row1 col3\" >$3.76</td>\n",
       "            </tr>\n",
       "            <tr>\n",
       "                        <th id=\"T_dfd0cd34_2f68_11ea_b0b0_f81654910301level0_row2\" class=\"row_heading level0 row2\" >15-19</th>\n",
       "                        <td id=\"T_dfd0cd34_2f68_11ea_b0b0_f81654910301row2_col0\" class=\"data row2 col0\" >136</td>\n",
       "                        <td id=\"T_dfd0cd34_2f68_11ea_b0b0_f81654910301row2_col1\" class=\"data row2 col1\" >$3.04</td>\n",
       "                        <td id=\"T_dfd0cd34_2f68_11ea_b0b0_f81654910301row2_col2\" class=\"data row2 col2\" >$412.89</td>\n",
       "                        <td id=\"T_dfd0cd34_2f68_11ea_b0b0_f81654910301row2_col3\" class=\"data row2 col3\" >$3.86</td>\n",
       "            </tr>\n",
       "            <tr>\n",
       "                        <th id=\"T_dfd0cd34_2f68_11ea_b0b0_f81654910301level0_row3\" class=\"row_heading level0 row3\" >20-24</th>\n",
       "                        <td id=\"T_dfd0cd34_2f68_11ea_b0b0_f81654910301row3_col0\" class=\"data row3 col0\" >365</td>\n",
       "                        <td id=\"T_dfd0cd34_2f68_11ea_b0b0_f81654910301row3_col1\" class=\"data row3 col1\" >$3.05</td>\n",
       "                        <td id=\"T_dfd0cd34_2f68_11ea_b0b0_f81654910301row3_col2\" class=\"data row3 col2\" >$1,114.06</td>\n",
       "                        <td id=\"T_dfd0cd34_2f68_11ea_b0b0_f81654910301row3_col3\" class=\"data row3 col3\" >$4.32</td>\n",
       "            </tr>\n",
       "            <tr>\n",
       "                        <th id=\"T_dfd0cd34_2f68_11ea_b0b0_f81654910301level0_row4\" class=\"row_heading level0 row4\" >25-29</th>\n",
       "                        <td id=\"T_dfd0cd34_2f68_11ea_b0b0_f81654910301row4_col0\" class=\"data row4 col0\" >101</td>\n",
       "                        <td id=\"T_dfd0cd34_2f68_11ea_b0b0_f81654910301row4_col1\" class=\"data row4 col1\" >$2.90</td>\n",
       "                        <td id=\"T_dfd0cd34_2f68_11ea_b0b0_f81654910301row4_col2\" class=\"data row4 col2\" >$293.00</td>\n",
       "                        <td id=\"T_dfd0cd34_2f68_11ea_b0b0_f81654910301row4_col3\" class=\"data row4 col3\" >$3.81</td>\n",
       "            </tr>\n",
       "            <tr>\n",
       "                        <th id=\"T_dfd0cd34_2f68_11ea_b0b0_f81654910301level0_row5\" class=\"row_heading level0 row5\" >30-34</th>\n",
       "                        <td id=\"T_dfd0cd34_2f68_11ea_b0b0_f81654910301row5_col0\" class=\"data row5 col0\" >73</td>\n",
       "                        <td id=\"T_dfd0cd34_2f68_11ea_b0b0_f81654910301row5_col1\" class=\"data row5 col1\" >$2.93</td>\n",
       "                        <td id=\"T_dfd0cd34_2f68_11ea_b0b0_f81654910301row5_col2\" class=\"data row5 col2\" >$214.00</td>\n",
       "                        <td id=\"T_dfd0cd34_2f68_11ea_b0b0_f81654910301row5_col3\" class=\"data row5 col3\" >$4.12</td>\n",
       "            </tr>\n",
       "            <tr>\n",
       "                        <th id=\"T_dfd0cd34_2f68_11ea_b0b0_f81654910301level0_row6\" class=\"row_heading level0 row6\" >35-39</th>\n",
       "                        <td id=\"T_dfd0cd34_2f68_11ea_b0b0_f81654910301row6_col0\" class=\"data row6 col0\" >41</td>\n",
       "                        <td id=\"T_dfd0cd34_2f68_11ea_b0b0_f81654910301row6_col1\" class=\"data row6 col1\" >$3.60</td>\n",
       "                        <td id=\"T_dfd0cd34_2f68_11ea_b0b0_f81654910301row6_col2\" class=\"data row6 col2\" >$147.67</td>\n",
       "                        <td id=\"T_dfd0cd34_2f68_11ea_b0b0_f81654910301row6_col3\" class=\"data row6 col3\" >$4.76</td>\n",
       "            </tr>\n",
       "            <tr>\n",
       "                        <th id=\"T_dfd0cd34_2f68_11ea_b0b0_f81654910301level0_row7\" class=\"row_heading level0 row7\" >40+</th>\n",
       "                        <td id=\"T_dfd0cd34_2f68_11ea_b0b0_f81654910301row7_col0\" class=\"data row7 col0\" >13</td>\n",
       "                        <td id=\"T_dfd0cd34_2f68_11ea_b0b0_f81654910301row7_col1\" class=\"data row7 col1\" >$2.94</td>\n",
       "                        <td id=\"T_dfd0cd34_2f68_11ea_b0b0_f81654910301row7_col2\" class=\"data row7 col2\" >$38.24</td>\n",
       "                        <td id=\"T_dfd0cd34_2f68_11ea_b0b0_f81654910301row7_col3\" class=\"data row7 col3\" >$3.19</td>\n",
       "            </tr>\n",
       "    </tbody></table>"
      ],
      "text/plain": [
       "<pandas.io.formats.style.Styler at 0x2555eb49e08>"
      ]
     },
     "execution_count": 42,
     "metadata": {},
     "output_type": "execute_result"
    }
   ],
   "source": [
    "age_analysis=pd.DataFrame({'Purchase Count':age_purchase['Purchase ID'].count(),\n",
    "                       'Average Purchase Price':avg_byage,\n",
    "                       'Total Purchase Value':tot_byage,\n",
    "                       'Avg Total Purchase per Person':avgperperson})\n",
    "age_analysis\n",
    "\n",
    "age_analysis.style.format({\"Average Purchase Price\":\"${:,.2f}\",\n",
    "                               \"Total Purchase Value\":\"${:,.2f}\",\n",
    "                               \"Avg Total Purchase per Person\":\"${:,.2f}\"})"
   ]
  },
  {
   "cell_type": "markdown",
   "metadata": {},
   "source": [
    "## Top Spenders"
   ]
  },
  {
   "cell_type": "markdown",
   "metadata": {},
   "source": [
    "* Run basic calculations to obtain the results in the table below\n",
    "\n",
    "\n",
    "* Create a summary data frame to hold the results\n",
    "\n",
    "\n",
    "* Sort the total purchase value column in descending order\n",
    "\n",
    "\n",
    "* Optional: give the displayed data cleaner formatting\n",
    "\n",
    "\n",
    "* Display a preview of the summary data frame\n",
    "\n"
   ]
  },
  {
   "cell_type": "code",
   "execution_count": 45,
   "metadata": {},
   "outputs": [
    {
     "data": {
      "text/html": [
       "<style  type=\"text/css\" >\n",
       "</style><table id=\"T_beda6bc0_2f69_11ea_80c8_f81654910301\" ><thead>    <tr>        <th class=\"blank level0\" ></th>        <th class=\"col_heading level0 col0\" >Purchase Count</th>        <th class=\"col_heading level0 col1\" >Average Purchase Price</th>        <th class=\"col_heading level0 col2\" >Total Purchase Value</th>    </tr>    <tr>        <th class=\"index_name level0\" >SN</th>        <th class=\"blank\" ></th>        <th class=\"blank\" ></th>        <th class=\"blank\" ></th>    </tr></thead><tbody>\n",
       "                <tr>\n",
       "                        <th id=\"T_beda6bc0_2f69_11ea_80c8_f81654910301level0_row0\" class=\"row_heading level0 row0\" >Lisosia93</th>\n",
       "                        <td id=\"T_beda6bc0_2f69_11ea_80c8_f81654910301row0_col0\" class=\"data row0 col0\" >5</td>\n",
       "                        <td id=\"T_beda6bc0_2f69_11ea_80c8_f81654910301row0_col1\" class=\"data row0 col1\" >$3.79</td>\n",
       "                        <td id=\"T_beda6bc0_2f69_11ea_80c8_f81654910301row0_col2\" class=\"data row0 col2\" >$18.96</td>\n",
       "            </tr>\n",
       "            <tr>\n",
       "                        <th id=\"T_beda6bc0_2f69_11ea_80c8_f81654910301level0_row1\" class=\"row_heading level0 row1\" >Idastidru52</th>\n",
       "                        <td id=\"T_beda6bc0_2f69_11ea_80c8_f81654910301row1_col0\" class=\"data row1 col0\" >4</td>\n",
       "                        <td id=\"T_beda6bc0_2f69_11ea_80c8_f81654910301row1_col1\" class=\"data row1 col1\" >$3.86</td>\n",
       "                        <td id=\"T_beda6bc0_2f69_11ea_80c8_f81654910301row1_col2\" class=\"data row1 col2\" >$15.45</td>\n",
       "            </tr>\n",
       "            <tr>\n",
       "                        <th id=\"T_beda6bc0_2f69_11ea_80c8_f81654910301level0_row2\" class=\"row_heading level0 row2\" >Chamjask73</th>\n",
       "                        <td id=\"T_beda6bc0_2f69_11ea_80c8_f81654910301row2_col0\" class=\"data row2 col0\" >3</td>\n",
       "                        <td id=\"T_beda6bc0_2f69_11ea_80c8_f81654910301row2_col1\" class=\"data row2 col1\" >$4.61</td>\n",
       "                        <td id=\"T_beda6bc0_2f69_11ea_80c8_f81654910301row2_col2\" class=\"data row2 col2\" >$13.83</td>\n",
       "            </tr>\n",
       "            <tr>\n",
       "                        <th id=\"T_beda6bc0_2f69_11ea_80c8_f81654910301level0_row3\" class=\"row_heading level0 row3\" >Iral74</th>\n",
       "                        <td id=\"T_beda6bc0_2f69_11ea_80c8_f81654910301row3_col0\" class=\"data row3 col0\" >4</td>\n",
       "                        <td id=\"T_beda6bc0_2f69_11ea_80c8_f81654910301row3_col1\" class=\"data row3 col1\" >$3.40</td>\n",
       "                        <td id=\"T_beda6bc0_2f69_11ea_80c8_f81654910301row3_col2\" class=\"data row3 col2\" >$13.62</td>\n",
       "            </tr>\n",
       "            <tr>\n",
       "                        <th id=\"T_beda6bc0_2f69_11ea_80c8_f81654910301level0_row4\" class=\"row_heading level0 row4\" >Iskadarya95</th>\n",
       "                        <td id=\"T_beda6bc0_2f69_11ea_80c8_f81654910301row4_col0\" class=\"data row4 col0\" >3</td>\n",
       "                        <td id=\"T_beda6bc0_2f69_11ea_80c8_f81654910301row4_col1\" class=\"data row4 col1\" >$4.37</td>\n",
       "                        <td id=\"T_beda6bc0_2f69_11ea_80c8_f81654910301row4_col2\" class=\"data row4 col2\" >$13.10</td>\n",
       "            </tr>\n",
       "    </tbody></table>"
      ],
      "text/plain": [
       "<pandas.io.formats.style.Styler at 0x2555eb5e2c8>"
      ]
     },
     "execution_count": 45,
     "metadata": {},
     "output_type": "execute_result"
    }
   ],
   "source": [
    "a=purchase_data.groupby(['SN'])\n",
    "topspend=pd.DataFrame(a['Purchase ID'].count())\n",
    "topspend['Average Purchase Price']=a['Price'].mean()\n",
    "topspend['Total Purchase Value']=a['Price'].sum()\n",
    "topspend=topspend.rename(columns={\"Purchase ID\":\"Purchase Count\"})\n",
    "topspend=topspend.sort_values(by='Total Purchase Value',ascending=False).head()\n",
    "topspend\n",
    "topspend.style.format({\"Average Purchase Total\":\"${:,.2f}\",\n",
    "                                 \"Average Purchase Price\":\"${:,.2f}\", \n",
    "                                 \"Total Purchase Value\":\"${:,.2f}\"})"
   ]
  },
  {
   "cell_type": "markdown",
   "metadata": {},
   "source": [
    "## Most Popular Items"
   ]
  },
  {
   "cell_type": "markdown",
   "metadata": {},
   "source": [
    "* Retrieve the Item ID, Item Name, and Item Price columns\n",
    "\n",
    "\n",
    "* Group by Item ID and Item Name. Perform calculations to obtain purchase count, item price, and total purchase value\n",
    "\n",
    "\n",
    "* Create a summary data frame to hold the results\n",
    "\n",
    "\n",
    "* Sort the purchase count column in descending order\n",
    "\n",
    "\n",
    "* Optional: give the displayed data cleaner formatting\n",
    "\n",
    "\n",
    "* Display a preview of the summary data frame\n",
    "\n"
   ]
  },
  {
   "cell_type": "code",
   "execution_count": 50,
   "metadata": {},
   "outputs": [
    {
     "data": {
      "text/html": [
       "<style  type=\"text/css\" >\n",
       "</style><table id=\"T_e4611610_2f6a_11ea_a029_f81654910301\" ><thead>    <tr>        <th class=\"blank level0\" ></th>        <th class=\"col_heading level0 col0\" >Item ID</th>        <th class=\"col_heading level0 col1\" >Item Name</th>        <th class=\"col_heading level0 col2\" >Price</th>    </tr></thead><tbody>\n",
       "                <tr>\n",
       "                        <th id=\"T_e4611610_2f6a_11ea_a029_f81654910301level0_row0\" class=\"row_heading level0 row0\" >0</th>\n",
       "                        <td id=\"T_e4611610_2f6a_11ea_a029_f81654910301row0_col0\" class=\"data row0 col0\" >108</td>\n",
       "                        <td id=\"T_e4611610_2f6a_11ea_a029_f81654910301row0_col1\" class=\"data row0 col1\" >Extraction, Quickblade Of Trembling Hands</td>\n",
       "                        <td id=\"T_e4611610_2f6a_11ea_a029_f81654910301row0_col2\" class=\"data row0 col2\" >3.53</td>\n",
       "            </tr>\n",
       "            <tr>\n",
       "                        <th id=\"T_e4611610_2f6a_11ea_a029_f81654910301level0_row1\" class=\"row_heading level0 row1\" >1</th>\n",
       "                        <td id=\"T_e4611610_2f6a_11ea_a029_f81654910301row1_col0\" class=\"data row1 col0\" >143</td>\n",
       "                        <td id=\"T_e4611610_2f6a_11ea_a029_f81654910301row1_col1\" class=\"data row1 col1\" >Frenzied Scimitar</td>\n",
       "                        <td id=\"T_e4611610_2f6a_11ea_a029_f81654910301row1_col2\" class=\"data row1 col2\" >1.56</td>\n",
       "            </tr>\n",
       "            <tr>\n",
       "                        <th id=\"T_e4611610_2f6a_11ea_a029_f81654910301level0_row2\" class=\"row_heading level0 row2\" >2</th>\n",
       "                        <td id=\"T_e4611610_2f6a_11ea_a029_f81654910301row2_col0\" class=\"data row2 col0\" >92</td>\n",
       "                        <td id=\"T_e4611610_2f6a_11ea_a029_f81654910301row2_col1\" class=\"data row2 col1\" >Final Critic</td>\n",
       "                        <td id=\"T_e4611610_2f6a_11ea_a029_f81654910301row2_col2\" class=\"data row2 col2\" >4.88</td>\n",
       "            </tr>\n",
       "            <tr>\n",
       "                        <th id=\"T_e4611610_2f6a_11ea_a029_f81654910301level0_row3\" class=\"row_heading level0 row3\" >3</th>\n",
       "                        <td id=\"T_e4611610_2f6a_11ea_a029_f81654910301row3_col0\" class=\"data row3 col0\" >100</td>\n",
       "                        <td id=\"T_e4611610_2f6a_11ea_a029_f81654910301row3_col1\" class=\"data row3 col1\" >Blindscythe</td>\n",
       "                        <td id=\"T_e4611610_2f6a_11ea_a029_f81654910301row3_col2\" class=\"data row3 col2\" >3.27</td>\n",
       "            </tr>\n",
       "            <tr>\n",
       "                        <th id=\"T_e4611610_2f6a_11ea_a029_f81654910301level0_row4\" class=\"row_heading level0 row4\" >4</th>\n",
       "                        <td id=\"T_e4611610_2f6a_11ea_a029_f81654910301row4_col0\" class=\"data row4 col0\" >131</td>\n",
       "                        <td id=\"T_e4611610_2f6a_11ea_a029_f81654910301row4_col1\" class=\"data row4 col1\" >Fury</td>\n",
       "                        <td id=\"T_e4611610_2f6a_11ea_a029_f81654910301row4_col2\" class=\"data row4 col2\" >1.44</td>\n",
       "            </tr>\n",
       "    </tbody></table>"
      ],
      "text/plain": [
       "<pandas.io.formats.style.Styler at 0x2555eb5cec8>"
      ]
     },
     "execution_count": 50,
     "metadata": {},
     "output_type": "execute_result"
    }
   ],
   "source": [
    "items=purchase_data[['Item ID','Item Name','Price',]].head()\n",
    "items\n",
    "=items.groupby(['Item ID','Item Name'])\n",
    "items.style.format({\"Item Price\":\"${:,.2f}\",\n",
    "                                \"Total Purchase Value\":\"${:,.2f}\"})"
   ]
  },
  {
   "cell_type": "code",
   "execution_count": 48,
   "metadata": {},
   "outputs": [
    {
     "data": {
      "text/html": [
       "<div>\n",
       "<style scoped>\n",
       "    .dataframe tbody tr th:only-of-type {\n",
       "        vertical-align: middle;\n",
       "    }\n",
       "\n",
       "    .dataframe tbody tr th {\n",
       "        vertical-align: top;\n",
       "    }\n",
       "\n",
       "    .dataframe thead th {\n",
       "        text-align: right;\n",
       "    }\n",
       "</style>\n",
       "<table border=\"1\" class=\"dataframe\">\n",
       "  <thead>\n",
       "    <tr style=\"text-align: right;\">\n",
       "      <th></th>\n",
       "      <th></th>\n",
       "      <th>Purchase Count</th>\n",
       "      <th>Item Price</th>\n",
       "      <th>Total Purchase Value</th>\n",
       "    </tr>\n",
       "    <tr>\n",
       "      <th>Item ID</th>\n",
       "      <th>Item Name</th>\n",
       "      <th></th>\n",
       "      <th></th>\n",
       "      <th></th>\n",
       "    </tr>\n",
       "  </thead>\n",
       "  <tbody>\n",
       "    <tr>\n",
       "      <td>92</td>\n",
       "      <td>Final Critic</td>\n",
       "      <td>1</td>\n",
       "      <td>4.88</td>\n",
       "      <td>4.88</td>\n",
       "    </tr>\n",
       "    <tr>\n",
       "      <td>100</td>\n",
       "      <td>Blindscythe</td>\n",
       "      <td>1</td>\n",
       "      <td>3.27</td>\n",
       "      <td>3.27</td>\n",
       "    </tr>\n",
       "    <tr>\n",
       "      <td>108</td>\n",
       "      <td>Extraction, Quickblade Of Trembling Hands</td>\n",
       "      <td>1</td>\n",
       "      <td>3.53</td>\n",
       "      <td>3.53</td>\n",
       "    </tr>\n",
       "    <tr>\n",
       "      <td>131</td>\n",
       "      <td>Fury</td>\n",
       "      <td>1</td>\n",
       "      <td>1.44</td>\n",
       "      <td>1.44</td>\n",
       "    </tr>\n",
       "    <tr>\n",
       "      <td>143</td>\n",
       "      <td>Frenzied Scimitar</td>\n",
       "      <td>1</td>\n",
       "      <td>1.56</td>\n",
       "      <td>1.56</td>\n",
       "    </tr>\n",
       "  </tbody>\n",
       "</table>\n",
       "</div>"
      ],
      "text/plain": [
       "                                                   Purchase Count  Item Price  \\\n",
       "Item ID Item Name                                                               \n",
       "92      Final Critic                                            1        4.88   \n",
       "100     Blindscythe                                             1        3.27   \n",
       "108     Extraction, Quickblade Of Trembling Hands               1        3.53   \n",
       "131     Fury                                                    1        1.44   \n",
       "143     Frenzied Scimitar                                       1        1.56   \n",
       "\n",
       "                                                   Total Purchase Value  \n",
       "Item ID Item Name                                                        \n",
       "92      Final Critic                                               4.88  \n",
       "100     Blindscythe                                                3.27  \n",
       "108     Extraction, Quickblade Of Trembling Hands                  3.53  \n",
       "131     Fury                                                       1.44  \n",
       "143     Frenzied Scimitar                                          1.56  "
      ]
     },
     "execution_count": 48,
     "metadata": {},
     "output_type": "execute_result"
    }
   ],
   "source": [
    "c=items.groupby(['Item ID','Item Name'])\n",
    "d=pd.DataFrame(c['Item ID'].count())\n",
    "d['Item Price']=c['Price'].mean()\n",
    "d['Total Purchase Value']=c['Price'].sum()\n",
    "d=d.rename(columns={'Item ID':'Purchase Count'})\n",
    "d=d.sort_values('Purchase Count',ascending=False).head()\n",
    "d"
   ]
  },
  {
   "cell_type": "markdown",
   "metadata": {},
   "source": [
    "## Most Profitable Items"
   ]
  },
  {
   "cell_type": "markdown",
   "metadata": {},
   "source": [
    "* Sort the above table by total purchase value in descending order\n",
    "\n",
    "\n",
    "* Optional: give the displayed data cleaner formatting\n",
    "\n",
    "\n",
    "* Display a preview of the data frame\n",
    "\n"
   ]
  },
  {
   "cell_type": "code",
   "execution_count": 49,
   "metadata": {
    "scrolled": true
   },
   "outputs": [
    {
     "data": {
      "text/html": [
       "<div>\n",
       "<style scoped>\n",
       "    .dataframe tbody tr th:only-of-type {\n",
       "        vertical-align: middle;\n",
       "    }\n",
       "\n",
       "    .dataframe tbody tr th {\n",
       "        vertical-align: top;\n",
       "    }\n",
       "\n",
       "    .dataframe thead th {\n",
       "        text-align: right;\n",
       "    }\n",
       "</style>\n",
       "<table border=\"1\" class=\"dataframe\">\n",
       "  <thead>\n",
       "    <tr style=\"text-align: right;\">\n",
       "      <th></th>\n",
       "      <th></th>\n",
       "      <th>Purchase Count</th>\n",
       "      <th>Item Price</th>\n",
       "      <th>Total Purchase Value</th>\n",
       "    </tr>\n",
       "    <tr>\n",
       "      <th>Item ID</th>\n",
       "      <th>Item Name</th>\n",
       "      <th></th>\n",
       "      <th></th>\n",
       "      <th></th>\n",
       "    </tr>\n",
       "  </thead>\n",
       "  <tbody>\n",
       "    <tr>\n",
       "      <td>92</td>\n",
       "      <td>Final Critic</td>\n",
       "      <td>1</td>\n",
       "      <td>4.88</td>\n",
       "      <td>4.88</td>\n",
       "    </tr>\n",
       "    <tr>\n",
       "      <td>108</td>\n",
       "      <td>Extraction, Quickblade Of Trembling Hands</td>\n",
       "      <td>1</td>\n",
       "      <td>3.53</td>\n",
       "      <td>3.53</td>\n",
       "    </tr>\n",
       "    <tr>\n",
       "      <td>100</td>\n",
       "      <td>Blindscythe</td>\n",
       "      <td>1</td>\n",
       "      <td>3.27</td>\n",
       "      <td>3.27</td>\n",
       "    </tr>\n",
       "    <tr>\n",
       "      <td>143</td>\n",
       "      <td>Frenzied Scimitar</td>\n",
       "      <td>1</td>\n",
       "      <td>1.56</td>\n",
       "      <td>1.56</td>\n",
       "    </tr>\n",
       "    <tr>\n",
       "      <td>131</td>\n",
       "      <td>Fury</td>\n",
       "      <td>1</td>\n",
       "      <td>1.44</td>\n",
       "      <td>1.44</td>\n",
       "    </tr>\n",
       "  </tbody>\n",
       "</table>\n",
       "</div>"
      ],
      "text/plain": [
       "                                                   Purchase Count  Item Price  \\\n",
       "Item ID Item Name                                                               \n",
       "92      Final Critic                                            1        4.88   \n",
       "108     Extraction, Quickblade Of Trembling Hands               1        3.53   \n",
       "100     Blindscythe                                             1        3.27   \n",
       "143     Frenzied Scimitar                                       1        1.56   \n",
       "131     Fury                                                    1        1.44   \n",
       "\n",
       "                                                   Total Purchase Value  \n",
       "Item ID Item Name                                                        \n",
       "92      Final Critic                                               4.88  \n",
       "108     Extraction, Quickblade Of Trembling Hands                  3.53  \n",
       "100     Blindscythe                                                3.27  \n",
       "143     Frenzied Scimitar                                          1.56  \n",
       "131     Fury                                                       1.44  "
      ]
     },
     "execution_count": 49,
     "metadata": {},
     "output_type": "execute_result"
    }
   ],
   "source": [
    "\n",
    "e=d.sort_values('Total Purchase Value',ascending=False).head()\n",
    "e"
   ]
  },
  {
   "cell_type": "code",
   "execution_count": null,
   "metadata": {},
   "outputs": [],
   "source": []
  }
 ],
 "metadata": {
  "anaconda-cloud": {},
  "kernel_info": {
   "name": "python3"
  },
  "kernelspec": {
   "display_name": "Python 3",
   "language": "python",
   "name": "python3"
  },
  "language_info": {
   "codemirror_mode": {
    "name": "ipython",
    "version": 3
   },
   "file_extension": ".py",
   "mimetype": "text/x-python",
   "name": "python",
   "nbconvert_exporter": "python",
   "pygments_lexer": "ipython3",
   "version": "3.7.4"
  },
  "latex_envs": {
   "LaTeX_envs_menu_present": true,
   "autoclose": false,
   "autocomplete": true,
   "bibliofile": "biblio.bib",
   "cite_by": "apalike",
   "current_citInitial": 1,
   "eqLabelWithNumbers": true,
   "eqNumInitial": 1,
   "hotkeys": {
    "equation": "Ctrl-E",
    "itemize": "Ctrl-I"
   },
   "labels_anchors": false,
   "latex_user_defs": false,
   "report_style_numbering": false,
   "user_envs_cfg": false
  },
  "nteract": {
   "version": "0.2.0"
  }
 },
 "nbformat": 4,
 "nbformat_minor": 2
}
